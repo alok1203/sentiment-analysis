{
 "cells": [
  {
   "cell_type": "code",
   "execution_count": null,
   "metadata": {
    "collapsed": true
   },
   "outputs": [],
   "source": [
    "from flask import Flask, redirect, render_template, request, url_for\n",
    "\n",
    "import helpers\n",
    "from analyzer import Analyzer\n",
    "\n",
    "app = Flask(__name__)\n",
    "\n",
    "@app.route(\"/\")\n",
    "def index():\n",
    "    return render_template(\"index.html\")\n",
    "\n",
    "@app.route(\"/search\")\n",
    "def search():\n",
    "\n",
    "    # validate screen_name\n",
    "    screen_name = request.args.get(\"screen_name\", \"\").lstrip(\"@\")\n",
    "    if not screen_name:\n",
    "        return redirect(url_for(\"index\"))\n",
    "\n",
    "    # get screen_name's tweets\n",
    "    tweets = helpers.get_user_timeline(screen_name,50)\n",
    "\n",
    "    # TODO\n",
    "    if tweets==None:\n",
    "        return redirect(url_for(\"index\"))\n",
    "    obj=Analyzer()\n",
    "    positive, negative, neutral =0,0,0\n",
    "    for tweet in tweets:\n",
    "        tokeni=nltk.tokenize.TweetTokenizer()\n",
    "        tokens=tokeni.tokenize(tweet)\n",
    "        score=0\n",
    "        for word in tokens:\n",
    "            score=obj.analyze(word)+score\n",
    "        if score>0:\n",
    "            positive=positive+1\n",
    "        elif score < 0:\n",
    "            negative=negative+1\n",
    "        else:\n",
    "            neutral=neutral+1\n",
    "    \n",
    "    \n",
    "\n",
    "    # generate chart\n",
    "    chart = helpers.chart(positive, negative, neutral)\n",
    "\n",
    "    # render results\n",
    "    return render_template(\"search.html\", chart=chart, screen_name=screen_name)\n",
    "if __name__==\"__main__\":\n",
    "    app.run()\n",
    "\n"
   ]
  }
 ],
 "metadata": {
  "kernelspec": {
   "display_name": "Python 2",
   "language": "python",
   "name": "python2"
  },
  "language_info": {
   "codemirror_mode": {
    "name": "ipython",
    "version": 2
   },
   "file_extension": ".py",
   "mimetype": "text/x-python",
   "name": "python",
   "nbconvert_exporter": "python",
   "pygments_lexer": "ipython2",
   "version": "2.7.13"
  }
 },
 "nbformat": 4,
 "nbformat_minor": 2
}
